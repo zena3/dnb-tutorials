{
 "cells": [
  {
   "cell_type": "markdown",
   "id": "9b8242ab",
   "metadata": {},
   "source": [
    "# Nafigator Tutorial\n",
    "This tutorial helps you to get started with the Nafigator package. We will:\n",
    "1. Create a catalog file: this contains the metadata of your file. \n",
    "2. Create a naf file: this contains all the content of you text file. \n",
    "3. Access the text layer to understand the structure of NAF and do some basic search querries\n",
    "4. Store your NAF files\n",
    "\n",
    "This tutorial is set up for one pdf file. You can also import multiple files at the same time"
   ]
  },
  {
   "cell_type": "markdown",
   "id": "987073d0",
   "metadata": {},
   "source": [
    "## Getting ready"
   ]
  },
  {
   "cell_type": "markdown",
   "id": "7d06c006",
   "metadata": {},
   "source": []
  },
  {
   "cell_type": "code",
   "execution_count": null,
   "metadata": {},
   "outputs": [],
   "source": [
    "#import your packages\n",
    "import nafigator\n",
    "import os\n",
    "import stanza\n",
    "import pandas as pd\n",
    "from nafigator.parse2naf import generate_naf"
   ]
  },
  {
   "cell_type": "code",
   "execution_count": null,
   "id": "8bc1b00b",
   "metadata": {},
   "outputs": [],
   "source": [
    "#Download and specify your (English) NLP engine\n",
    "stanza.download('en')\n",
    "stanza_nlp = stanza.Pipeline('en')"
   ]
  },
  {
   "cell_type": "markdown",
   "id": "2e61468f",
   "metadata": {},
   "source": [
    "## 1. Create a catalog file\n",
    "Cataloge files contain the meta data of your files. Here you can store the correct information\n",
    "We use the [Dublin Core Metadata initiative](https://www.dublincore.org/resources/userguide/publishing_metadata/#exCon1)."
   ]
  },
  {
   "cell_type": "code",
   "execution_count": null,
   "id": "ea3deb9c",
   "metadata": {},
   "outputs": [],
   "source": [
    "#create a catalog file containing your metadata\n",
    "df_catalog=pd.DataFrame(columns =['dc:identifier', 'dc:source', 'dc:relation', 'dc:creator', 'dc:format', 'dc:language', 'dc:type', 'dc:coverage', 'naf:status'])"
   ]
  },
  {
   "cell_type": "code",
   "execution_count": null,
   "id": "495bfadb",
   "metadata": {},
   "outputs": [],
   "source": [
    "doc_name = os.path.join(\"..\", \"data\", \"external\", \"naf\", \"annual_report_dnb_2020.naf.xml\")"
   ]
  },
  {
   "cell_type": "code",
   "execution_count": null,
   "id": "e1063331",
   "metadata": {},
   "outputs": [],
   "source": [
    "#add the metadata of the document to the dataframe\n",
    "df_catalog=nafigator.doc2catalog(doc_name, df_catalog, document_source = None, document_type=\"annual report\", document_year= 2020)"
   ]
  },
  {
   "cell_type": "markdown",
   "id": "9f05bc67",
   "metadata": {},
   "source": [
    "## 2. Create a naf file\n",
    "Depending on the length of your document, the creation of a NAF file containing all the relevant layers may take a while.\n",
    "In this example we use \"DNB's annual report\"[maybe insert another file]"
   ]
  },
  {
   "cell_type": "code",
   "execution_count": null,
   "id": "48da06b6",
   "metadata": {},
   "outputs": [],
   "source": [
    "#generate the NAF file with an input (pdf) file. The data folder contains an example for you to use, but you can specify the file you want to analyse by changing 'input'.\n",
    "doc = generate_naf(input = \"../data/external/naf/annual_report_dnb_2020.pdf\",\n",
    "                   engine = \"stanza\",\n",
    "                   language = \"en\",\n",
    "                   naf_version = \"v3.1\",\n",
    "                   dtd_validation = False,\n",
    "                   params = {'fileDesc': {'author': 'anonymous'}},\n",
    "                   nlp = None)"
   ]
  },
  {
   "cell_type": "markdown",
   "id": "d45050e2",
   "metadata": {},
   "source": [
    "## 3. Access the text layer to understand the structure of NAF and perform some basic search querries"
   ]
  },
  {
   "cell_type": "code",
   "execution_count": null,
   "metadata": {},
   "outputs": [],
   "source": [
    "#Congratulations! You have now your first NAF file. To access the plain text of the document, run the below command.\n",
    "doc.raw"
   ]
  },
  {
   "cell_type": "markdown",
   "id": "b2b44d20",
   "metadata": {},
   "source": [
    "When working with NAF, it's important to understand the structure of the naf.xml file."
   ]
  },
  {
   "cell_type": "code",
   "execution_count": null,
   "id": "1441a1e5",
   "metadata": {},
   "outputs": [],
   "source": [
    "#To get information about the the layers in the NAF file, use the header function:\n",
    "doc.header"
   ]
  },
  {
   "cell_type": "markdown",
   "id": "eb0b976f",
   "metadata": {},
   "source": [
    "As you can see, each layer is a different dictionary containing a list.\n",
    "For more examples, please check: https://pypi.org/project/nafigator/"
   ]
  },
  {
   "cell_type": "markdown",
   "id": "60cbe480",
   "metadata": {},
   "source": [
    "### The structure - how to use the text layer\n",
    "You can use doc.text to access the following elements from the text layer:\n",
    "- id: the id of the word form\n",
    "- sent: sentence id of the word form\n",
    "- para: paragraph id of the word form\n",
    "- offset: the offset (in charachters) of the word form\n",
    "- length: the length (in charachters) of the word form"
   ]
  },
  {
   "cell_type": "code",
   "execution_count": null,
   "id": "ad332a2c",
   "metadata": {},
   "outputs": [],
   "source": [
    "#By printing this result you will see the structure of the file. It is a set of dictionaries within a list.\n",
    "doc.text"
   ]
  },
  {
   "cell_type": "code",
   "execution_count": null,
   "id": "9e1e55a0",
   "metadata": {},
   "outputs": [],
   "source": [
    "#To access a specific part of the document, you can use lists to go through the entire file. Let's say you want to access the 4240th word in this file.\n",
    "doc.text[4239]"
   ]
  },
  {
   "cell_type": "code",
   "execution_count": null,
   "id": "acc40025",
   "metadata": {},
   "outputs": [],
   "source": [
    "#If you want to extract specific values from the file (for example, the page number where )\n",
    "doc.text[4239][\"page\"]"
   ]
  },
  {
   "cell_type": "markdown",
   "id": "6a29869b",
   "metadata": {},
   "source": [
    "### Search\n",
    "NAF makes multiple types of search possible. Here we'll show you two types:\n",
    "- Exact search\n",
    "- Lemmatized search"
   ]
  },
  {
   "cell_type": "markdown",
   "id": "033024e4",
   "metadata": {},
   "source": [
    "### Exact Search"
   ]
  },
  {
   "cell_type": "code",
   "execution_count": null,
   "id": "a299c442",
   "metadata": {},
   "outputs": [],
   "source": [
    "#The 4239th word is 'economy'. If you want to search all sentences that contain this word, you loop through the entire text file as shown below. This will show you all the sentences that contain 'economy'.\n",
    "[word[\"sent\"]for word in doc.text if word[\"text\"]==\"economy\"]"
   ]
  },
  {
   "cell_type": "markdown",
   "id": "23e09462",
   "metadata": {},
   "source": [
    "### Lemmatized Search\n"
   ]
  },
  {
   "cell_type": "code",
   "execution_count": null,
   "id": "4e4968ef",
   "metadata": {},
   "outputs": [],
   "source": [
    "#Gather all the lemmas\n",
    "lemmas = [term['lemma'] for term in doc.terms]\n",
    "#Search for combined terms\n",
    "economy=nafigator.sublist_indices([\"economy\"], lemmas)\n",
    "print(economy)"
   ]
  },
  {
   "cell_type": "markdown",
   "id": "846f45db",
   "metadata": {},
   "source": [
    "### Maybe not necessary"
   ]
  },
  {
   "cell_type": "code",
   "execution_count": null,
   "id": "84d9abd7",
   "metadata": {},
   "outputs": [],
   "source": [
    "#However, sometimes you want to do lematized search instead\n",
    "#first you gather the terms and words\n",
    "doc_terms = {term['id']: term for term in doc.terms}\n",
    "doc_words = {word['id']: word for word in doc.terms}\n",
    "#Or a combination of words\n"
   ]
  },
  {
   "cell_type": "markdown",
   "id": "23ff965f",
   "metadata": {},
   "source": [
    "### Getting more from page text"
   ]
  },
  {
   "cell_type": "code",
   "execution_count": null,
   "id": "2e9c81c1",
   "metadata": {},
   "outputs": [],
   "source": [
    "# Print the text on the 22nd page\n",
    "[word['text'] for word in doc.text if word['page'] == '22']"
   ]
  },
  {
   "cell_type": "markdown",
   "id": "22267b41",
   "metadata": {},
   "source": [
    "### Printing Specific Sentences"
   ]
  },
  {
   "cell_type": "code",
   "execution_count": null,
   "id": "03cafd4e",
   "metadata": {},
   "outputs": [],
   "source": [
    "#printing a sentence based on a sentence number\n",
    "sentence =  doc.sentences[23]\n",
    "print(\"Sentence: \" + str(sentence[\"text\"])+\"\\n\")"
   ]
  },
  {
   "cell_type": "markdown",
   "id": "a4732e74",
   "metadata": {},
   "source": [
    "### Get Insight in the Entities\n",
    "NAF is great at storing information about the text in different layers. For example, you might want to list all the entities that are named in this document."
   ]
  },
  {
   "cell_type": "code",
   "execution_count": null,
   "id": "a9b3dc46",
   "metadata": {},
   "outputs": [],
   "source": [
    "# To get all the entities in the text, use the below command\n",
    "entities=doc.entities\n",
    "\n",
    "# If you only want to extract the organisations you can do so as well\n",
    "[doc['text']for doc in doc.entities if doc['type'] == \"ORG\"]\n"
   ]
  },
  {
   "cell_type": "markdown",
   "id": "77c0d4f9",
   "metadata": {},
   "source": [
    "## 4. Storing your NAF File\n",
    "After you have generated your NAF file, you probably want to store it for later use. Especially since this is the most time consuming part of your analysis."
   ]
  },
  {
   "cell_type": "code",
   "execution_count": null,
   "id": "a5b99e26",
   "metadata": {},
   "outputs": [],
   "source": [
    "#store you document naf file as xml \n",
    "doc.write(\"../data/external/naf/annual_report_dnb_2020.naf.xml\")"
   ]
  },
  {
   "cell_type": "code",
   "execution_count": null,
   "id": "a182118b",
   "metadata": {},
   "outputs": [],
   "source": [
    "#if you want to reuse it later, import an existing naf file as shown below\n",
    "doc_name = os.path.join(\"..\", \"data\", \"external\", \"naf\", \"annual_report_dnb_2020.naf.xml\")\n",
    "#doc = nafigator.NafDocument().open('notebook_data/output.naf.xml')\n",
    "doc=nafigator.NafDocument().open(doc_name)"
   ]
  }
 ],
 "metadata": {
  "kernelspec": {
   "display_name": "Python 3",
   "language": "python",
   "name": "python3"
  },
  "language_info": {
   "codemirror_mode": {
    "name": "ipython",
    "version": 3
   },
   "file_extension": ".py",
   "mimetype": "text/x-python",
   "name": "python",
   "nbconvert_exporter": "python",
   "pygments_lexer": "ipython3",
   "version": "3.7.11"
  }
 },
 "nbformat": 4,
 "nbformat_minor": 5
}
